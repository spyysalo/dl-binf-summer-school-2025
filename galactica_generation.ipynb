{
  "nbformat": 4,
  "nbformat_minor": 0,
  "metadata": {
    "colab": {
      "provenance": [],
      "gpuType": "T4",
      "authorship_tag": "ABX9TyNR6DSihrgkHvBJjZUGxW0D",
      "include_colab_link": true
    },
    "kernelspec": {
      "name": "python3",
      "display_name": "Python 3"
    },
    "language_info": {
      "name": "python"
    },
    "accelerator": "GPU"
  },
  "cells": [
    {
      "cell_type": "markdown",
      "metadata": {
        "id": "view-in-github",
        "colab_type": "text"
      },
      "source": [
        "<a href=\"https://colab.research.google.com/github/spyysalo/dl-binf-summer-school-2025/blob/main/galactica_generation.ipynb\" target=\"_parent\"><img src=\"https://colab.research.google.com/assets/colab-badge.svg\" alt=\"Open In Colab\"/></a>"
      ]
    },
    {
      "cell_type": "markdown",
      "source": [
        "# Text generation with GALACTICA\n",
        "\n",
        "This notebook demonstrates text generation with a small GALACTICA model (https://galactica.org/) on Colab."
      ],
      "metadata": {
        "id": "upiVhm3M7i7h"
      }
    },
    {
      "cell_type": "markdown",
      "source": [
        "First, we'll install the required Python packages. The [transformers](https://huggingface.co/docs/transformers/index) package is used to load the model and run generation, and the [accelerate](https://huggingface.co/docs/accelerate/index) package supports running large models efficiently on multiple devices."
      ],
      "metadata": {
        "id": "-ImKmG7j70Z1"
      }
    },
    {
      "cell_type": "code",
      "execution_count": null,
      "metadata": {
        "id": "8jS-wINx56E5"
      },
      "outputs": [],
      "source": [
        "!pip install --quiet transformers accelerate"
      ]
    },
    {
      "cell_type": "markdown",
      "source": [
        "We'll perform generation using the `pipeline` class. This class abstracts over many of the details involved in loading models from the [Hugging Face Hub](https://huggingface.co/models) and using them for common tasks."
      ],
      "metadata": {
        "id": "jIPvUiXkoK3E"
      }
    },
    {
      "cell_type": "code",
      "source": [
        "from transformers import pipeline"
      ],
      "metadata": {
        "id": "rN7nXJEyognv"
      },
      "execution_count": null,
      "outputs": []
    },
    {
      "cell_type": "markdown",
      "source": [
        "First, create a `pipeline` for text classification, loading a named model. You can substitute any other causal model model name here (e.g. other GALACTICA models), but note that Colab may have issues running very large models."
      ],
      "metadata": {
        "id": "pL852VVCoktL"
      }
    },
    {
      "cell_type": "code",
      "source": [
        "MODEL_NAME = 'facebook/galactica-1.3b'\n",
        "\n",
        "pipe = pipeline(\n",
        "    'text-generation',\n",
        "    model=MODEL_NAME,\n",
        "    device_map='auto',\n",
        ")"
      ],
      "metadata": {
        "id": "8Haw6sWQo9s8",
        "outputId": "8d847386-c98d-46af-af1c-22a9a3a8f9f9",
        "colab": {
          "base_uri": "https://localhost:8080/"
        }
      },
      "execution_count": null,
      "outputs": [
        {
          "output_type": "stream",
          "name": "stderr",
          "text": [
            "Device set to use cuda:0\n"
          ]
        }
      ]
    },
    {
      "cell_type": "markdown",
      "source": [
        "We'll define a simple function to perform generation for a given text prompt using broadly reasonable parameters. For details on text generation using transformers, see e.g. [this tutorial](https://huggingface.co/blog/how-to-generate)."
      ],
      "metadata": {
        "id": "umdDvLLvpR_X"
      }
    },
    {
      "cell_type": "code",
      "source": [
        "def generate(prompt, temperature=0.7, max_new_tokens=100):\n",
        "    output = pipe(\n",
        "        prompt,\n",
        "        do_sample=True,\n",
        "        temperature=temperature,\n",
        "        max_new_tokens=max_new_tokens\n",
        "    )\n",
        "    return output[0]['generated_text']"
      ],
      "metadata": {
        "id": "DzDFHhttpTwZ"
      },
      "execution_count": null,
      "outputs": []
    },
    {
      "cell_type": "markdown",
      "source": [
        "Run generation with a few example prompts.\n",
        "\n",
        "(Note that re-running these generation examples will produce different outputs as `model.generate` is invoked with the `do_sample=True` parameter.)"
      ],
      "metadata": {
        "id": "GJXzCH0UCBg2"
      }
    },
    {
      "cell_type": "code",
      "source": [
        "print(generate('p53 is an extensively studied protein that is known to interact with'))"
      ],
      "metadata": {
        "colab": {
          "base_uri": "https://localhost:8080/"
        },
        "id": "mVadcgJ57gBJ",
        "outputId": "7b73b505-f244-49eb-8943-f75abf1d3dba"
      },
      "execution_count": null,
      "outputs": [
        {
          "output_type": "stream",
          "name": "stdout",
          "text": [
            "p53 is an extensively studied protein that is known to interact with many proteins including histones, chromatin remodelers, and transcription factors, among others, to promote cell survival and/or apoptosis [ p53-Dependent Apoptosis: Evolutionary Conservation of the p53 Pathway from Bacteria to Humans, Loughery, p53-dependent apoptosis: a conserved mechanism in human and mouse., Kastan]. Additionally, p53 is also known to contribute to the regulation of autophagy, which is defined as the process of\n"
          ]
        }
      ]
    },
    {
      "cell_type": "code",
      "source": [
        "print(generate('The most significant risk factors for cancer include'))"
      ],
      "metadata": {
        "colab": {
          "base_uri": "https://localhost:8080/"
        },
        "id": "4z6DKCoYAjfF",
        "outputId": "e3746ac5-9d6f-4ccc-da36-e386e46720e6"
      },
      "execution_count": null,
      "outputs": [
        {
          "output_type": "stream",
          "name": "stdout",
          "text": [
            "The most significant risk factors for cancer include obesity (for breast cancer), physical inactivity (for colorectal cancer), and smoking (for colorectal cancer) [ The risk factors for cancer in Japan, Hiraki].\n",
            "\n",
            "Since the 1990s, the number of patients with cancer in Japan has increased over 10% annually, and the number of deaths from cancer has increased by 20% over the same period. In 2014, there were 1\n"
          ]
        }
      ]
    },
    {
      "cell_type": "markdown",
      "source": [
        "**NOTE**: GALACTICA is a _base_ language model and has _not_ been trained to follow instructions (or chat). Because of this, \"requests\" such as the following will not result in responsive output."
      ],
      "metadata": {
        "id": "jwwmwVpor4qI"
      }
    },
    {
      "cell_type": "code",
      "source": [
        "print(generate('List the five most common types of cancer, with one per line.'))"
      ],
      "metadata": {
        "id": "VoiHhsBArl0e",
        "outputId": "b243adcf-6b3d-4c50-962b-a139476ff150",
        "colab": {
          "base_uri": "https://localhost:8080/"
        }
      },
      "execution_count": null,
      "outputs": [
        {
          "output_type": "stream",
          "name": "stdout",
          "text": [
            "List the five most common types of cancer, with one per line.\n",
            "\n",
            "# 2.3. Data Preparation\n",
            "\n",
            "In the data preparation step, we first extracted all the data from the TCGA database. The following data are extracted: (1) the ID and name of the patient; (2) the ID, name, and survival time of the tumor; (3) the ID, name, and survival time of the tumor microenvironment; (4) the ID, name, and survival time of the immune cells; and (\n"
          ]
        }
      ]
    },
    {
      "cell_type": "markdown",
      "source": [
        "Try the model with a few prompts that test for facts relevant to your work."
      ],
      "metadata": {
        "id": "sLx68miBtG7E"
      }
    },
    {
      "cell_type": "markdown",
      "source": [
        "---\n",
        "\n",
        "**BONUS**: try changing the model from `facebook/galactica-1.3b` to a model trained to follow instructions, e.g. `HuggingFaceTB/SmolLM2-1.7B-Instruct`, and rerun the generations. What is different?"
      ],
      "metadata": {
        "id": "UcaZNQS7H6lf"
      }
    }
  ]
}