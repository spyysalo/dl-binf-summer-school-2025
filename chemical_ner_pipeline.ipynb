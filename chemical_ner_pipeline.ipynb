{
  "nbformat": 4,
  "nbformat_minor": 0,
  "metadata": {
    "colab": {
      "provenance": [],
      "gpuType": "T4",
      "authorship_tag": "ABX9TyPUmSk+nA2EQrwSBcOb6HGC",
      "include_colab_link": true
    },
    "kernelspec": {
      "name": "python3",
      "display_name": "Python 3"
    },
    "language_info": {
      "name": "python"
    },
    "accelerator": "GPU"
  },
  "cells": [
    {
      "cell_type": "markdown",
      "metadata": {
        "id": "view-in-github",
        "colab_type": "text"
      },
      "source": [
        "<a href=\"https://colab.research.google.com/github/spyysalo/dl-binf-summer-school-2025/blob/main/chemical_ner_pipeline.ipynb\" target=\"_parent\"><img src=\"https://colab.research.google.com/assets/colab-badge.svg\" alt=\"Open In Colab\"/></a>"
      ]
    },
    {
      "cell_type": "markdown",
      "source": [
        "# Named entity recognition with a fine-tuned model\n",
        "\n",
        "This notebook demonstrates named entity recognition with the a fine-tuned model on Colab."
      ],
      "metadata": {
        "id": "upiVhm3M7i7h"
      }
    },
    {
      "cell_type": "markdown",
      "source": [
        "First, we'll install the required Python package. The [transformers](https://huggingface.co/docs/transformers/index) package is used to load the model and run prediction."
      ],
      "metadata": {
        "id": "-ImKmG7j70Z1"
      }
    },
    {
      "cell_type": "code",
      "execution_count": null,
      "metadata": {
        "id": "8jS-wINx56E5"
      },
      "outputs": [],
      "source": [
        "!pip install --quiet transformers"
      ]
    },
    {
      "cell_type": "markdown",
      "source": [
        "Next, we'll import the `AutoTokenizer`, `AutoModelForTokenClassification` and `pipeline` classes. These support loading tokenizers and models from the [Hugging Face Hub](https://huggingface.co/models) and wrapping these into an easy-to-use pipeline."
      ],
      "metadata": {
        "id": "_Eo4L8Fg78HA"
      }
    },
    {
      "cell_type": "code",
      "source": [
        "from transformers import AutoTokenizer, AutoModelForTokenClassification, pipeline"
      ],
      "metadata": {
        "id": "MTaE1wV5D8BD"
      },
      "execution_count": null,
      "outputs": []
    },
    {
      "cell_type": "markdown",
      "source": [
        "Load a model fine-tuned for NER and its tokenizer."
      ],
      "metadata": {
        "id": "dALzr3qOIVlr"
      }
    },
    {
      "cell_type": "code",
      "source": [
        "MODEL_NAME = 'alvaroalon2/biobert_chemical_ner'\n",
        "\n",
        "tokenizer = AutoTokenizer.from_pretrained(MODEL_NAME)\n",
        "model = AutoModelForTokenClassification.from_pretrained(MODEL_NAME)"
      ],
      "metadata": {
        "id": "rVU1q0ch6dFY"
      },
      "execution_count": null,
      "outputs": []
    },
    {
      "cell_type": "markdown",
      "source": [
        "Wrap the tokenizer and model in a pipeline that takes care of tokenization, decoding of output, and interpreting output as named entity spans."
      ],
      "metadata": {
        "id": "db972wByzKMr"
      }
    },
    {
      "cell_type": "code",
      "source": [
        "pipe = pipeline(\n",
        "    'ner',\n",
        "    model=model,\n",
        "    tokenizer=tokenizer,\n",
        "    aggregation_strategy='first',\n",
        "    device=model.device,\n",
        ")"
      ],
      "metadata": {
        "id": "2Jg933fFzUvY"
      },
      "execution_count": null,
      "outputs": []
    },
    {
      "cell_type": "markdown",
      "source": [
        "Test with a PubMed abstract text"
      ],
      "metadata": {
        "id": "0-PbG2hD_iRV"
      }
    },
    {
      "cell_type": "code",
      "source": [
        "text = '''Synthesis and antibacterial evaluation of a novel tricyclic oxaborole-fused fluoroquinolone.    We have designed and synthesized a novel class of compounds based on fluoroquinolone antibacterial prototype. The design concept involved the replacement of the 3-carboxylic acid in ciprofloxacin with an oxaborole-fused ring as an acid-mimicking group. The synthetic method employed in this work provides a good example of incorporating boron atom in complex molecules with multiple functional groups. The antibacterial activity of the newly synthesized compounds has been evaluated.'''\n",
        "\n",
        "names = pipe(text)\n",
        "\n",
        "for n in names:\n",
        "    print(f\"{n['entity_group']}\\t{n['start']}\\t{n['end']}\\t{n['word']}\")"
      ],
      "metadata": {
        "id": "HSsOg_W-vnVM"
      },
      "execution_count": null,
      "outputs": []
    }
  ]
}