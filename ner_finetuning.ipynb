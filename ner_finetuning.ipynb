{
  "nbformat": 4,
  "nbformat_minor": 0,
  "metadata": {
    "colab": {
      "provenance": [],
      "gpuType": "T4",
      "authorship_tag": "ABX9TyOxP1s4GP34hKaMiCZ0j5JD",
      "include_colab_link": true
    },
    "kernelspec": {
      "name": "python3",
      "display_name": "Python 3"
    },
    "language_info": {
      "name": "python"
    },
    "accelerator": "GPU"
  },
  "cells": [
    {
      "cell_type": "markdown",
      "metadata": {
        "id": "view-in-github",
        "colab_type": "text"
      },
      "source": [
        "<a href=\"https://colab.research.google.com/github/spyysalo/dl-binf-summer-school-2025/blob/main/ner_finetuning.ipynb\" target=\"_parent\"><img src=\"https://colab.research.google.com/assets/colab-badge.svg\" alt=\"Open In Colab\"/></a>"
      ]
    },
    {
      "cell_type": "markdown",
      "source": [
        "## Fine-tuning a model for NER\n",
        "\n",
        "Let's train a transformer model on a Named Entity Recognition (NER) dataset."
      ],
      "metadata": {
        "id": "6z3NuDfrprZA"
      }
    },
    {
      "cell_type": "markdown",
      "source": [
        "---\n",
        "\n",
        "## Setup"
      ],
      "metadata": {
        "id": "adKOlw8frrlz"
      }
    },
    {
      "cell_type": "markdown",
      "source": [
        "Install the required Python packages:"
      ],
      "metadata": {
        "id": "Ya7aNGYeqcql"
      }
    },
    {
      "cell_type": "code",
      "execution_count": null,
      "metadata": {
        "id": "7t5cMszypelm"
      },
      "outputs": [],
      "source": [
        "!pip install --quiet transformers datasets==3.6.0 evaluate seqeval accelerate"
      ]
    },
    {
      "cell_type": "markdown",
      "source": [
        "Import the libraries we'll be using here."
      ],
      "metadata": {
        "id": "UhlAurZOvpWW"
      }
    },
    {
      "cell_type": "code",
      "source": [
        "import datasets\n",
        "import transformers\n",
        "import evaluate\n",
        "\n",
        "from pprint import pprint"
      ],
      "metadata": {
        "id": "h19T7mGuvt8-"
      },
      "execution_count": null,
      "outputs": []
    },
    {
      "cell_type": "markdown",
      "source": [
        "Make things a bit more quiet. (This only affects what shows on screen when running. If you're debugging, you probably want to comment these out.)"
      ],
      "metadata": {
        "id": "LySPAWdSqjA1"
      }
    },
    {
      "cell_type": "code",
      "source": [
        "transformers.utils.logging.set_verbosity_error()\n",
        "datasets.logging.set_verbosity_error()\n",
        "datasets.disable_progress_bar()"
      ],
      "metadata": {
        "id": "uo-wMrnKqpIW"
      },
      "execution_count": null,
      "outputs": []
    },
    {
      "cell_type": "markdown",
      "source": [
        "---\n",
        "\n",
        "## Load dataset\n",
        "\n",
        "Load a dataset for training using `datasets`."
      ],
      "metadata": {
        "id": "kUKGKvnHqKt7"
      }
    },
    {
      "cell_type": "code",
      "source": [
        "DATASET = 'conll2003'\n",
        "\n",
        "builder = datasets.load_dataset_builder(DATASET, trust_remote_code=True)\n",
        "dataset = datasets.load_dataset(DATASET, trust_remote_code=True)"
      ],
      "metadata": {
        "id": "3lZDBHc7ppI6"
      },
      "execution_count": null,
      "outputs": []
    },
    {
      "cell_type": "markdown",
      "source": [
        "Let's have a look at the description and dataset."
      ],
      "metadata": {
        "id": "fzvOrvMUrQW4"
      }
    },
    {
      "cell_type": "code",
      "source": [
        "print(builder.info.description)"
      ],
      "metadata": {
        "id": "7PUGnArpq0I4",
        "colab": {
          "base_uri": "https://localhost:8080/"
        },
        "outputId": "ca3514dc-860e-4de3-81ce-8f3f262bff96"
      },
      "execution_count": null,
      "outputs": [
        {
          "output_type": "stream",
          "name": "stdout",
          "text": [
            "The shared task of CoNLL-2003 concerns language-independent named entity recognition. We will concentrate on\n",
            "four types of named entities: persons, locations, organizations and names of miscellaneous entities that do\n",
            "not belong to the previous three groups.\n",
            "\n",
            "The CoNLL-2003 shared task data files contain four columns separated by a single space. Each word has been put on\n",
            "a separate line and there is an empty line after each sentence. The first item on each line is a word, the second\n",
            "a part-of-speech (POS) tag, the third a syntactic chunk tag and the fourth the named entity tag. The chunk tags\n",
            "and the named entity tags have the format I-TYPE which means that the word is inside a phrase of type TYPE. Only\n",
            "if two phrases of the same type immediately follow each other, the first word of the second phrase will have tag\n",
            "B-TYPE to show that it starts a new phrase. A word with tag O is not part of a phrase. Note the dataset uses IOB2\n",
            "tagging scheme, whereas the original dataset uses IOB1.\n",
            "\n",
            "For more details see https://www.clips.uantwerpen.be/conll2003/ner/ and https://www.aclweb.org/anthology/W03-0419\n",
            "\n"
          ]
        }
      ]
    },
    {
      "cell_type": "code",
      "source": [
        "print(dataset)"
      ],
      "metadata": {
        "id": "RY-ER5vErVEs",
        "colab": {
          "base_uri": "https://localhost:8080/"
        },
        "outputId": "01bd93ce-7757-456a-dfb5-39387c7cefeb"
      },
      "execution_count": null,
      "outputs": [
        {
          "output_type": "stream",
          "name": "stdout",
          "text": [
            "DatasetDict({\n",
            "    train: Dataset({\n",
            "        features: ['id', 'tokens', 'pos_tags', 'chunk_tags', 'ner_tags'],\n",
            "        num_rows: 14041\n",
            "    })\n",
            "    validation: Dataset({\n",
            "        features: ['id', 'tokens', 'pos_tags', 'chunk_tags', 'ner_tags'],\n",
            "        num_rows: 3250\n",
            "    })\n",
            "    test: Dataset({\n",
            "        features: ['id', 'tokens', 'pos_tags', 'chunk_tags', 'ner_tags'],\n",
            "        num_rows: 3453\n",
            "    })\n",
            "})\n"
          ]
        }
      ]
    },
    {
      "cell_type": "markdown",
      "source": [
        "We have the conventional split into `train`, `validation`, and `test`.\n",
        "\n",
        "We're here only interested in the `tokens` and `ner_tags`. (In particular, the `ner_tags` and `chunk_tags` are included to support methods based on manually engineered features, and as such not highly relevant to the deep learning approach we're pursuing here.)\n",
        "\n",
        "Let's have a look at one example."
      ],
      "metadata": {
        "id": "wK0I81MzWfW3"
      }
    },
    {
      "cell_type": "code",
      "source": [
        "print(dataset['train'][0]['tokens'])\n",
        "print(dataset['train'][0]['ner_tags'])"
      ],
      "metadata": {
        "id": "xg7YVgnCXglr",
        "colab": {
          "base_uri": "https://localhost:8080/"
        },
        "outputId": "8cfaf3fd-4df7-4d86-fe4b-e4c97cc0bee1"
      },
      "execution_count": null,
      "outputs": [
        {
          "output_type": "stream",
          "name": "stdout",
          "text": [
            "['EU', 'rejects', 'German', 'call', 'to', 'boycott', 'British', 'lamb', '.']\n",
            "[3, 0, 7, 0, 0, 0, 7, 0, 0]\n"
          ]
        }
      ]
    },
    {
      "cell_type": "markdown",
      "source": [
        "Take note of the number of different labels and create mappings from label IDs to label strings and vice versa; we'll need these later."
      ],
      "metadata": {
        "id": "6DlQnP8N7EyJ"
      }
    },
    {
      "cell_type": "code",
      "source": [
        "label_names = dataset['train'].features['ner_tags'].feature.names\n",
        "print('Labels:', label_names)\n",
        "\n",
        "num_labels = len(label_names)\n",
        "id2label = { k: v for k, v in enumerate(label_names) }\n",
        "label2id = { v: k for k, v in enumerate(label_names) }\n",
        "\n",
        "print('Number of labels:', num_labels)\n",
        "print('id2label mapping:', id2label)\n",
        "print('labelid2 mapping:', label2id)"
      ],
      "metadata": {
        "id": "JHGjHsNf7I4E",
        "colab": {
          "base_uri": "https://localhost:8080/"
        },
        "outputId": "a17c5e03-5825-48ee-fc37-b1cd55a74053"
      },
      "execution_count": null,
      "outputs": [
        {
          "output_type": "stream",
          "name": "stdout",
          "text": [
            "Labels: ['O', 'B-PER', 'I-PER', 'B-ORG', 'I-ORG', 'B-LOC', 'I-LOC', 'B-MISC', 'I-MISC']\n",
            "Number of labels: 9\n",
            "id2label mapping: {0: 'O', 1: 'B-PER', 2: 'I-PER', 3: 'B-ORG', 4: 'I-ORG', 5: 'B-LOC', 6: 'I-LOC', 7: 'B-MISC', 8: 'I-MISC'}\n",
            "labelid2 mapping: {'O': 0, 'B-PER': 1, 'I-PER': 2, 'B-ORG': 3, 'I-ORG': 4, 'B-LOC': 5, 'I-LOC': 6, 'B-MISC': 7, 'I-MISC': 8}\n"
          ]
        }
      ]
    },
    {
      "cell_type": "markdown",
      "source": [
        "Let's see that example again, applying the label mapping:"
      ],
      "metadata": {
        "id": "fvxCFhkAYMXQ"
      }
    },
    {
      "cell_type": "code",
      "source": [
        "for token, tag_id in zip(dataset['train'][0]['tokens'], dataset['train'][0]['ner_tags']):\n",
        "    print(f'{token}\\t{id2label[tag_id]}')"
      ],
      "metadata": {
        "id": "GPqVWzNyYSFZ",
        "colab": {
          "base_uri": "https://localhost:8080/"
        },
        "outputId": "4801658e-00fb-4580-a777-a07fb1d15163"
      },
      "execution_count": null,
      "outputs": [
        {
          "output_type": "stream",
          "name": "stdout",
          "text": [
            "EU\tB-ORG\n",
            "rejects\tO\n",
            "German\tB-MISC\n",
            "call\tO\n",
            "to\tO\n",
            "boycott\tO\n",
            "British\tB-MISC\n",
            "lamb\tO\n",
            ".\tO\n"
          ]
        }
      ]
    },
    {
      "cell_type": "markdown",
      "source": [
        "---\n",
        "\n",
        "## Tokenize and vectorize dataset\n",
        "\n",
        "We'll first load the tokenizer that corresponds to the model that we want to use. `AutoTokenizer` is a convenience class that will return the appropriate tokenizer for the model it's given as an argument:"
      ],
      "metadata": {
        "id": "d2yaMXe7unE0"
      }
    },
    {
      "cell_type": "code",
      "source": [
        "MODEL = 'bert-base-cased'\n",
        "\n",
        "tokenizer = transformers.AutoTokenizer.from_pretrained(MODEL)"
      ],
      "metadata": {
        "id": "IG2DtYoRvGWa"
      },
      "execution_count": null,
      "outputs": []
    },
    {
      "cell_type": "markdown",
      "source": [
        "The tokenizer will, most importantly, produce `input_ids`, which identify the tokens of the text.\n",
        "\n",
        "The BERT tokenizer also produces an `attention_mask`, which can be used to make the model ignore some tokens, and `token_type_ids`, which can differentiate parts of the input e.g. when it consists of two separate texts."
      ],
      "metadata": {
        "id": "yI3Ve7f3vfap"
      }
    },
    {
      "cell_type": "code",
      "source": [
        "pprint(tokenizer('this is an example sentence'))"
      ],
      "metadata": {
        "id": "b7sIEg4ivgoy",
        "colab": {
          "base_uri": "https://localhost:8080/"
        },
        "outputId": "37db78bc-1e5f-412d-b2c0-ed5af249d726"
      },
      "execution_count": null,
      "outputs": [
        {
          "output_type": "stream",
          "name": "stdout",
          "text": [
            "{'attention_mask': [1, 1, 1, 1, 1, 1, 1],\n",
            " 'input_ids': [101, 1142, 1110, 1126, 1859, 5650, 102],\n",
            " 'token_type_ids': [0, 0, 0, 0, 0, 0, 0]}\n"
          ]
        }
      ]
    },
    {
      "cell_type": "markdown",
      "source": [
        "A key point here is to note that the data already has its own definition of \"token\", and the tokenizer may split some of those into parts:"
      ],
      "metadata": {
        "id": "Cz-TQwRsbR7l"
      }
    },
    {
      "cell_type": "code",
      "source": [
        "input_ids = tokenizer('Turku is not in the vocabulary').input_ids\n",
        "\n",
        "print(input_ids)\n",
        "print()\n",
        "print(tokenizer.convert_ids_to_tokens(input_ids))"
      ],
      "metadata": {
        "id": "UlJOXt_1a3oU",
        "colab": {
          "base_uri": "https://localhost:8080/"
        },
        "outputId": "b6fde35b-81e9-4732-e4fa-82a78c55d1cc"
      },
      "execution_count": null,
      "outputs": [
        {
          "output_type": "stream",
          "name": "stdout",
          "text": [
            "[101, 17037, 4661, 1358, 1110, 1136, 1107, 1103, 18074, 102]\n",
            "\n",
            "['[CLS]', 'Tu', '##rk', '##u', 'is', 'not', 'in', 'the', 'vocabulary', '[SEP]']\n"
          ]
        }
      ]
    },
    {
      "cell_type": "markdown",
      "source": [
        "For each sentence, our data consists of a tokenized list of strings (\"words\") rather than a single string. If we call the tokenizer with its default options, it interprets each token as a different example:"
      ],
      "metadata": {
        "id": "8pflRkNAeJD0"
      }
    },
    {
      "cell_type": "code",
      "source": [
        "print(dataset['train'][0]['tokens'])\n",
        "print()\n",
        "\n",
        "for ids in tokenizer(dataset['train'][0]['tokens']).input_ids:\n",
        "    print(tokenizer.convert_ids_to_tokens(ids))"
      ],
      "metadata": {
        "id": "KLHE2uUWeNob",
        "colab": {
          "base_uri": "https://localhost:8080/"
        },
        "outputId": "a87f8bac-eb66-4161-d1c5-0405d9cb2a7b"
      },
      "execution_count": null,
      "outputs": [
        {
          "output_type": "stream",
          "name": "stdout",
          "text": [
            "['EU', 'rejects', 'German', 'call', 'to', 'boycott', 'British', 'lamb', '.']\n",
            "\n",
            "['[CLS]', 'EU', '[SEP]']\n",
            "['[CLS]', 'rejects', '[SEP]']\n",
            "['[CLS]', 'German', '[SEP]']\n",
            "['[CLS]', 'call', '[SEP]']\n",
            "['[CLS]', 'to', '[SEP]']\n",
            "['[CLS]', 'boycott', '[SEP]']\n",
            "['[CLS]', 'British', '[SEP]']\n",
            "['[CLS]', 'la', '##mb', '[SEP]']\n",
            "['[CLS]', '.', '[SEP]']\n"
          ]
        }
      ]
    },
    {
      "cell_type": "markdown",
      "source": [
        "To get the correct mapping, we provide `is_split_into_words=True` to the tokenizer."
      ],
      "metadata": {
        "id": "Qg0gitvecGDK"
      }
    },
    {
      "cell_type": "code",
      "source": [
        "tokens = 'Turku is not in the vocabulary'.split()\n",
        "tokenized = tokenizer(tokens, is_split_into_words=True)\n",
        "\n",
        "print(tokens)\n",
        "print()\n",
        "pprint(tokenizer.convert_ids_to_tokens(tokenized.input_ids))"
      ],
      "metadata": {
        "id": "cVY4p2I3cg6q",
        "colab": {
          "base_uri": "https://localhost:8080/"
        },
        "outputId": "6f294b16-d32e-4a0f-95d1-44ed859b0f79"
      },
      "execution_count": null,
      "outputs": [
        {
          "output_type": "stream",
          "name": "stdout",
          "text": [
            "['Turku', 'is', 'not', 'in', 'the', 'vocabulary']\n",
            "\n",
            "['[CLS]', 'Tu', '##rk', '##u', 'is', 'not', 'in', 'the', 'vocabulary', '[SEP]']\n"
          ]
        }
      ]
    },
    {
      "cell_type": "markdown",
      "source": [
        "The tokenizer also provides us with a mapping from the tokenizer tokens to \"original\" tokens (\"words\")"
      ],
      "metadata": {
        "id": "p_YMxebffxow"
      }
    },
    {
      "cell_type": "code",
      "source": [
        "tokenized.word_ids()"
      ],
      "metadata": {
        "id": "QbdQNIcIf6qI",
        "colab": {
          "base_uri": "https://localhost:8080/"
        },
        "outputId": "30e9e111-82ab-4759-b749-13997f6c8b60"
      },
      "execution_count": null,
      "outputs": [
        {
          "output_type": "execute_result",
          "data": {
            "text/plain": [
              "[None, 0, 0, 0, 1, 2, 3, 4, 5, None]"
            ]
          },
          "metadata": {},
          "execution_count": 40
        }
      ]
    },
    {
      "cell_type": "markdown",
      "source": [
        "With `is_split_into_words=True`, we can tokenize the input so that its tokens are compatible with the model, but the labels will be misaligned."
      ],
      "metadata": {
        "id": "yyKqaqW2xoai"
      }
    },
    {
      "cell_type": "code",
      "source": [
        "from itertools import zip_longest\n",
        "\n",
        "token_ids = tokenizer(dataset['train'][0]['tokens'], is_split_into_words=True).input_ids\n",
        "tag_ids = dataset['train'][0]['ner_tags']\n",
        "\n",
        "for token_id, tag_id in zip_longest(token_ids, tag_ids):\n",
        "    token = tokenizer.convert_ids_to_tokens(token_id)\n",
        "    tag = id2label[tag_id] if tag_id is not None else None\n",
        "    print(f'{token}\\t{tag}')"
      ],
      "metadata": {
        "id": "JKC8KstnyEkw",
        "colab": {
          "base_uri": "https://localhost:8080/"
        },
        "outputId": "fde99689-68fa-4223-a1fd-b2d6957b59b2"
      },
      "execution_count": null,
      "outputs": [
        {
          "output_type": "stream",
          "name": "stdout",
          "text": [
            "[CLS]\tB-ORG\n",
            "EU\tO\n",
            "rejects\tB-MISC\n",
            "German\tO\n",
            "call\tO\n",
            "to\tO\n",
            "boycott\tB-MISC\n",
            "British\tO\n",
            "la\tO\n",
            "##mb\tNone\n",
            ".\tNone\n",
            "[SEP]\tNone\n"
          ]
        }
      ]
    },
    {
      "cell_type": "markdown",
      "source": [
        "To resolve this, we'll borrow a function from [a transformers tutorial](https://huggingface.co/course/chapter7/2). Here, `-100` is a \"magic value\" for a label that pytorch ignores."
      ],
      "metadata": {
        "id": "HsmDsthgzGoQ"
      }
    },
    {
      "cell_type": "code",
      "source": [
        "def align_labels_with_tokens(labels, word_ids):\n",
        "    new_labels = []\n",
        "    current_word = None\n",
        "    for word_id in word_ids:\n",
        "        if word_id != current_word:    # Start of a new word\n",
        "            current_word = word_id\n",
        "            label = -100 if word_id is None else labels[word_id]\n",
        "            new_labels.append(label)\n",
        "        elif word_id is None:          # Special token\n",
        "            new_labels.append(-100)\n",
        "        else:                          # Same word as previous token\n",
        "            label = labels[word_id]\n",
        "            if label % 2 == 1:         # If label is B-XXX we change it to I-XXX\n",
        "                label += 1\n",
        "            new_labels.append(label)\n",
        "    return new_labels"
      ],
      "metadata": {
        "id": "S_cxn0BIzS4U"
      },
      "execution_count": null,
      "outputs": []
    },
    {
      "cell_type": "markdown",
      "source": [
        "We'll also borrow a function for jointly tokenizing the text and aliging labels:"
      ],
      "metadata": {
        "id": "R8nx5IKK0A5Q"
      }
    },
    {
      "cell_type": "code",
      "source": [
        "def tokenize_and_align_labels(inputs):\n",
        "    outputs = tokenizer(inputs['tokens'], truncation=True, is_split_into_words=True)\n",
        "    new_labels = []\n",
        "    for i, labels in enumerate(inputs['ner_tags']):\n",
        "        word_ids = outputs.word_ids(i)\n",
        "        new_labels.append(align_labels_with_tokens(labels, word_ids))\n",
        "    outputs['labels'] = new_labels\n",
        "    return outputs"
      ],
      "metadata": {
        "id": "rzQ1o5103usD"
      },
      "execution_count": null,
      "outputs": []
    },
    {
      "cell_type": "markdown",
      "source": [
        "We'll then apply this to the whole dataset:"
      ],
      "metadata": {
        "id": "TljzveA14amt"
      }
    },
    {
      "cell_type": "code",
      "source": [
        "dataset = dataset.map(tokenize_and_align_labels, batched=True)"
      ],
      "metadata": {
        "id": "6MQVEP6y4Z-y"
      },
      "execution_count": null,
      "outputs": []
    },
    {
      "cell_type": "markdown",
      "source": [
        "Now these should match up:"
      ],
      "metadata": {
        "id": "YU_kJtqu7It2"
      }
    },
    {
      "cell_type": "code",
      "source": [
        "token_ids = dataset['train'][0]['input_ids']\n",
        "tag_ids = dataset['train'][0]['labels']\n",
        "\n",
        "for token_id, tag_id in zip_longest(token_ids, tag_ids):\n",
        "    token = tokenizer.convert_ids_to_tokens(token_id)\n",
        "    tag = id2label[tag_id] if tag_id != -100 else None\n",
        "    print(f'{token}\\t{tag}')"
      ],
      "metadata": {
        "id": "wgRVPp6p7NjK",
        "colab": {
          "base_uri": "https://localhost:8080/"
        },
        "outputId": "2b6d27a1-aa7c-4cc0-e00d-d099be576dbc"
      },
      "execution_count": null,
      "outputs": [
        {
          "output_type": "stream",
          "name": "stdout",
          "text": [
            "[CLS]\tNone\n",
            "EU\tB-ORG\n",
            "rejects\tO\n",
            "German\tB-MISC\n",
            "call\tO\n",
            "to\tO\n",
            "boycott\tO\n",
            "British\tB-MISC\n",
            "la\tO\n",
            "##mb\tO\n",
            ".\tO\n",
            "[SEP]\tNone\n"
          ]
        }
      ]
    },
    {
      "cell_type": "markdown",
      "source": [
        "---\n",
        "\n",
        "## Instantiate model\n",
        "\n",
        "Now, we'll instantiate a pretrained model with a sequence labeling head. We'll use the `Auto` variant to get the appropriate class based on model name.\n",
        "\n",
        "**NOTE**: we need to provide the number of labels to `from_pretrained` so that the function knows the size of the output layer that is required. The `id2label` and `label2id` mappings allow the model to report its classification results in interpretable text labels."
      ],
      "metadata": {
        "id": "coct30Pmr0Ng"
      }
    },
    {
      "cell_type": "code",
      "source": [
        "model = transformers.AutoModelForTokenClassification.from_pretrained(\n",
        "    MODEL,\n",
        "    num_labels=num_labels,\n",
        "    id2label=id2label,\n",
        "    label2id=label2id\n",
        ")"
      ],
      "metadata": {
        "id": "m5D1eK0FraRU"
      },
      "execution_count": null,
      "outputs": []
    },
    {
      "cell_type": "markdown",
      "source": [
        "---\n",
        "\n",
        "## Training configuration\n",
        "\n",
        "To assess the progress and results of training, we'll use the standard `seqeval` library. We'll also need to introduce a function that takes model outputs and the labels from the dataset and calls the metric.\n",
        "\n",
        "Here, we'll again borrow from [the transformers tutorial](https://huggingface.co/course/chapter7/2):"
      ],
      "metadata": {
        "id": "GglUCNFm1f9q"
      }
    },
    {
      "cell_type": "code",
      "source": [
        "metrics = evaluate.load('seqeval')\n",
        "\n",
        "\n",
        "def compute_metrics(outputs_and_labels):\n",
        "    outputs, labels = outputs_and_labels\n",
        "    predictions = outputs.argmax(axis=-1)\n",
        "\n",
        "    # Remove ignored index (special tokens) and convert to labels\n",
        "    true_labels = [[id2label[i] for i in label if i != -100] for label in labels]\n",
        "    true_predictions = [\n",
        "        [id2label[p] for (p, l) in zip(prediction, label) if l != -100]\n",
        "        for prediction, label in zip(predictions, labels)\n",
        "    ]\n",
        "    all_metrics = metrics.compute(predictions=true_predictions, references=true_labels)\n",
        "    return {\n",
        "        'precision': all_metrics['overall_precision'],\n",
        "        'recall': all_metrics['overall_recall'],\n",
        "        'f1': all_metrics['overall_f1'],\n",
        "        'accuracy': all_metrics['overall_accuracy'],\n",
        "    }"
      ],
      "metadata": {
        "id": "Q1ph62MmsTxB"
      },
      "execution_count": null,
      "outputs": []
    },
    {
      "cell_type": "markdown",
      "source": [
        "We'll also need a collator for padding the examples to the same length to process them in batches."
      ],
      "metadata": {
        "id": "1cDpsGI_-2hO"
      }
    },
    {
      "cell_type": "code",
      "source": [
        "from transformers import DataCollatorForTokenClassification\n",
        "\n",
        "data_collator = DataCollatorForTokenClassification(tokenizer=tokenizer)"
      ],
      "metadata": {
        "id": "Hp9Cwl8X-6KA"
      },
      "execution_count": null,
      "outputs": []
    },
    {
      "cell_type": "markdown",
      "source": [
        "The `TrainingArguments` class configures many of the details of the model training. You may want to try optimizing the following hyperparameters to improve model performance:\n",
        "\n",
        "* `learning_rate`: the step size for weight updates\n",
        "* `per_device_train_batch_size`: number of examples per training batch\n",
        "* `max_steps`: the maximum number of steps to train for"
      ],
      "metadata": {
        "id": "5CMOftQi4nIR"
      }
    },
    {
      "cell_type": "code",
      "source": [
        "trainer_args = transformers.TrainingArguments(\n",
        "    output_dir='checkpoints',\n",
        "    eval_strategy='steps',\n",
        "    logging_strategy='steps',\n",
        "    load_best_model_at_end=True,\n",
        "    eval_steps=100,\n",
        "    logging_steps=100,\n",
        "    learning_rate=0.00002,\n",
        "    per_device_train_batch_size=16,\n",
        "    per_device_eval_batch_size=32,\n",
        "    max_steps=1500,\n",
        "    report_to='none',\n",
        ")"
      ],
      "metadata": {
        "id": "T13HyLrh2oRE"
      },
      "execution_count": null,
      "outputs": []
    },
    {
      "cell_type": "markdown",
      "source": [
        "Finally, we'll create a custom [callback](https://huggingface.co/docs/transformers/main_classes/callback) to store values logged during training so that we can more easily examine them later. (This is only needed for visualization and is not necessary to understand in detail.)"
      ],
      "metadata": {
        "id": "q-er8P2eAHHp"
      }
    },
    {
      "cell_type": "code",
      "source": [
        "from collections import defaultdict\n",
        "\n",
        "class LogSavingCallback(transformers.TrainerCallback):\n",
        "    def on_train_begin(self, *args, **kwargs):\n",
        "        self.logs = defaultdict(list)\n",
        "        self.training = True\n",
        "\n",
        "    def on_train_end(self, *args, **kwargs):\n",
        "        self.training = False\n",
        "\n",
        "    def on_log(self, args, state, control, logs, model=None, **kwargs):\n",
        "        if self.training:\n",
        "            for k, v in logs.items():\n",
        "                if k != \"epoch\" or v not in self.logs[k]:\n",
        "                    self.logs[k].append(v)\n",
        "\n",
        "training_logs = LogSavingCallback()"
      ],
      "metadata": {
        "id": "DwMxldxOAUHD"
      },
      "execution_count": null,
      "outputs": []
    },
    {
      "cell_type": "markdown",
      "source": [
        "---\n",
        "\n",
        "## Train (fine-tune) model"
      ],
      "metadata": {
        "id": "enKZualc5hzi"
      }
    },
    {
      "cell_type": "code",
      "source": [
        "trainer = transformers.Trainer(\n",
        "    model=model,\n",
        "    args=trainer_args,\n",
        "    train_dataset=dataset['train'],\n",
        "    eval_dataset=dataset['validation'],\n",
        "    compute_metrics=compute_metrics,\n",
        "    tokenizer=tokenizer,\n",
        "    data_collator=data_collator,\n",
        "    callbacks=[training_logs],\n",
        ")"
      ],
      "metadata": {
        "id": "3rauYFl45mi9",
        "colab": {
          "base_uri": "https://localhost:8080/"
        },
        "outputId": "ea909aba-9e4b-43c6-e58b-4ddcffb979de"
      },
      "execution_count": null,
      "outputs": [
        {
          "output_type": "stream",
          "name": "stderr",
          "text": [
            "/tmp/ipython-input-3533063172.py:1: FutureWarning: `tokenizer` is deprecated and will be removed in version 5.0.0 for `Trainer.__init__`. Use `processing_class` instead.\n",
            "  trainer = transformers.Trainer(\n"
          ]
        }
      ]
    },
    {
      "cell_type": "code",
      "source": [
        "trainer.train()"
      ],
      "metadata": {
        "id": "rTCrH63X50T_",
        "colab": {
          "base_uri": "https://localhost:8080/"
        },
        "outputId": "b4fb028b-b8b8-498b-c33d-3e515c167fcf"
      },
      "execution_count": null,
      "outputs": [
        {
          "output_type": "stream",
          "name": "stdout",
          "text": [
            "{'loss': 0.6033, 'grad_norm': 1.47196626663208, 'learning_rate': 1.8680000000000004e-05, 'epoch': 0.11389521640091116}\n",
            "{'eval_loss': 0.2084999978542328, 'eval_precision': 0.6536375239310785, 'eval_recall': 0.6894984853584651, 'eval_f1': 0.6710892710892711, 'eval_accuracy': 0.9358185671395773, 'eval_runtime': 10.1097, 'eval_samples_per_second': 321.472, 'eval_steps_per_second': 10.089, 'epoch': 0.11389521640091116}\n",
            "{'loss': 0.1779, 'grad_norm': 4.886595249176025, 'learning_rate': 1.7346666666666668e-05, 'epoch': 0.22779043280182232}\n",
            "{'eval_loss': 0.13430242240428925, 'eval_precision': 0.7746993454102603, 'eval_recall': 0.8564456411982497, 'eval_f1': 0.8135240987930622, 'eval_accuracy': 0.9593512686171778, 'eval_runtime': 10.1187, 'eval_samples_per_second': 321.186, 'eval_steps_per_second': 10.08, 'epoch': 0.22779043280182232}\n",
            "{'loss': 0.1531, 'grad_norm': 3.60894775390625, 'learning_rate': 1.6013333333333335e-05, 'epoch': 0.3416856492027335}\n",
            "{'eval_loss': 0.10806240886449814, 'eval_precision': 0.8347964884277733, 'eval_recall': 0.8801750252440256, 'eval_f1': 0.8568853936266076, 'eval_accuracy': 0.9685053276034614, 'eval_runtime': 10.3698, 'eval_samples_per_second': 313.411, 'eval_steps_per_second': 9.836, 'epoch': 0.3416856492027335}\n",
            "{'loss': 0.1024, 'grad_norm': 2.026912212371826, 'learning_rate': 1.4680000000000002e-05, 'epoch': 0.45558086560364464}\n",
            "{'eval_loss': 0.0826292634010315, 'eval_precision': 0.8585794094173983, 'eval_recall': 0.9052507573207674, 'eval_f1': 0.8812976161218973, 'eval_accuracy': 0.9762906928827927, 'eval_runtime': 15.4155, 'eval_samples_per_second': 210.826, 'eval_steps_per_second': 6.617, 'epoch': 0.45558086560364464}\n",
            "{'loss': 0.1102, 'grad_norm': 1.7853394746780396, 'learning_rate': 1.3346666666666667e-05, 'epoch': 0.5694760820045558}\n",
            "{'eval_loss': 0.07604455202817917, 'eval_precision': 0.8807517822423849, 'eval_recall': 0.9148434870414002, 'eval_f1': 0.8974739970282318, 'eval_accuracy': 0.9781892035085654, 'eval_runtime': 10.5099, 'eval_samples_per_second': 309.232, 'eval_steps_per_second': 9.705, 'epoch': 0.5694760820045558}\n",
            "{'loss': 0.086, 'grad_norm': 1.33274507522583, 'learning_rate': 1.2013333333333334e-05, 'epoch': 0.683371298405467}\n",
            "{'eval_loss': 0.07528620213270187, 'eval_precision': 0.8921793193717278, 'eval_recall': 0.917704476607203, 'eval_f1': 0.9047619047619048, 'eval_accuracy': 0.9779242950491552, 'eval_runtime': 10.5231, 'eval_samples_per_second': 308.845, 'eval_steps_per_second': 9.693, 'epoch': 0.683371298405467}\n",
            "{'loss': 0.0824, 'grad_norm': 1.0825035572052002, 'learning_rate': 1.0680000000000001e-05, 'epoch': 0.7972665148063781}\n",
            "{'eval_loss': 0.06831293553113937, 'eval_precision': 0.8901846452866861, 'eval_recall': 0.9249410972736453, 'eval_f1': 0.9072301089468472, 'eval_accuracy': 0.980234885500677, 'eval_runtime': 10.5526, 'eval_samples_per_second': 307.98, 'eval_steps_per_second': 9.666, 'epoch': 0.7972665148063781}\n",
            "{'loss': 0.0693, 'grad_norm': 7.789903163909912, 'learning_rate': 9.346666666666666e-06, 'epoch': 0.9111617312072893}\n",
            "{'eval_loss': 0.06539487093687057, 'eval_precision': 0.9017784304127916, 'eval_recall': 0.9301581958936385, 'eval_f1': 0.9157484881120039, 'eval_accuracy': 0.9817507505739683, 'eval_runtime': 10.5609, 'eval_samples_per_second': 307.738, 'eval_steps_per_second': 9.658, 'epoch': 0.9111617312072893}\n",
            "{'loss': 0.0729, 'grad_norm': 2.8044047355651855, 'learning_rate': 8.013333333333333e-06, 'epoch': 1.0250569476082005}\n",
            "{'eval_loss': 0.06237310171127319, 'eval_precision': 0.9017784304127916, 'eval_recall': 0.9301581958936385, 'eval_f1': 0.9157484881120039, 'eval_accuracy': 0.9821775475363513, 'eval_runtime': 10.675, 'eval_samples_per_second': 304.448, 'eval_steps_per_second': 9.555, 'epoch': 1.0250569476082005}\n",
            "{'loss': 0.0464, 'grad_norm': 1.8283469676971436, 'learning_rate': 6.680000000000001e-06, 'epoch': 1.1389521640091116}\n",
            "{'eval_loss': 0.06070813909173012, 'eval_precision': 0.9058881096069157, 'eval_recall': 0.9347021204981488, 'eval_f1': 0.9200695767414894, 'eval_accuracy': 0.9828545358215106, 'eval_runtime': 11.3665, 'eval_samples_per_second': 285.928, 'eval_steps_per_second': 8.974, 'epoch': 1.1389521640091116}\n",
            "{'loss': 0.0461, 'grad_norm': 2.302112340927124, 'learning_rate': 5.346666666666667e-06, 'epoch': 1.2528473804100229}\n",
            "{'eval_loss': 0.06142101064324379, 'eval_precision': 0.9201846965699209, 'eval_recall': 0.9390777515987883, 'eval_f1': 0.9295352323838082, 'eval_accuracy': 0.9840907752987579, 'eval_runtime': 10.6424, 'eval_samples_per_second': 305.383, 'eval_steps_per_second': 9.584, 'epoch': 1.2528473804100229}\n",
            "{'loss': 0.0486, 'grad_norm': 1.3820667266845703, 'learning_rate': 4.013333333333334e-06, 'epoch': 1.366742596810934}\n",
            "{'eval_loss': 0.06058334559202194, 'eval_precision': 0.9175139389963922, 'eval_recall': 0.9416021541568496, 'eval_f1': 0.9294019933554818, 'eval_accuracy': 0.9841937952551951, 'eval_runtime': 10.5689, 'eval_samples_per_second': 307.506, 'eval_steps_per_second': 9.651, 'epoch': 1.366742596810934}\n",
            "{'loss': 0.0457, 'grad_norm': 3.298583745956421, 'learning_rate': 2.68e-06, 'epoch': 1.4806378132118452}\n",
            "{'eval_loss': 0.058494750410318375, 'eval_precision': 0.9110349330721514, 'eval_recall': 0.9392460451026591, 'eval_f1': 0.9249254226052369, 'eval_accuracy': 0.984208512391829, 'eval_runtime': 10.6473, 'eval_samples_per_second': 305.24, 'eval_steps_per_second': 9.58, 'epoch': 1.4806378132118452}\n",
            "{'loss': 0.0535, 'grad_norm': 1.081384539604187, 'learning_rate': 1.3466666666666668e-06, 'epoch': 1.5945330296127562}\n",
            "{'eval_loss': 0.05848181992769241, 'eval_precision': 0.9130008176614881, 'eval_recall': 0.9395826321104005, 'eval_f1': 0.9261010201542672, 'eval_accuracy': 0.9838994525225172, 'eval_runtime': 11.1997, 'eval_samples_per_second': 290.186, 'eval_steps_per_second': 9.107, 'epoch': 1.5945330296127562}\n",
            "{'loss': 0.0449, 'grad_norm': 3.816079616546631, 'learning_rate': 1.3333333333333334e-08, 'epoch': 1.7084282460136673}\n",
            "{'eval_loss': 0.0581769123673439, 'eval_precision': 0.9129084967320261, 'eval_recall': 0.9402558061258836, 'eval_f1': 0.9263803680981595, 'eval_accuracy': 0.9841643609819274, 'eval_runtime': 11.1712, 'eval_samples_per_second': 290.928, 'eval_steps_per_second': 9.131, 'epoch': 1.7084282460136673}\n",
            "{'train_runtime': 446.2402, 'train_samples_per_second': 53.783, 'train_steps_per_second': 3.361, 'train_loss': 0.11616672420501709, 'epoch': 1.7084282460136673}\n"
          ]
        },
        {
          "output_type": "execute_result",
          "data": {
            "text/plain": [
              "TrainOutput(global_step=1500, training_loss=0.11616672420501709, metrics={'train_runtime': 446.2402, 'train_samples_per_second': 53.783, 'train_steps_per_second': 3.361, 'train_loss': 0.11616672420501709, 'epoch': 1.7084282460136673})"
            ]
          },
          "metadata": {},
          "execution_count": 57
        }
      ]
    },
    {
      "cell_type": "markdown",
      "source": [
        "---\n",
        "\n",
        "## Evaluate trained model\n",
        "\n",
        "We can use the `trainer` to evaluate the trained model using the metric we defined:"
      ],
      "metadata": {
        "id": "SY4dt3HGA-6C"
      }
    },
    {
      "cell_type": "code",
      "source": [
        "eval_results = trainer.evaluate(dataset['test'])\n",
        "\n",
        "pprint(eval_results)\n",
        "\n",
        "print('\\nF1:', eval_results['eval_f1'])"
      ],
      "metadata": {
        "id": "W3VOmny26WTI",
        "colab": {
          "base_uri": "https://localhost:8080/"
        },
        "outputId": "9315367d-9fc8-4c57-e71e-803f9134261d"
      },
      "execution_count": null,
      "outputs": [
        {
          "output_type": "stream",
          "name": "stdout",
          "text": [
            "{'eval_loss': 0.15025077760219574, 'eval_precision': 0.8694099642917871, 'eval_recall': 0.9052762039660056, 'eval_f1': 0.8869806574724608, 'eval_accuracy': 0.9697136824191236, 'eval_runtime': 9.8257, 'eval_samples_per_second': 351.426, 'eval_steps_per_second': 10.992, 'epoch': 1.7084282460136673}\n",
            "{'epoch': 1.7084282460136673,\n",
            " 'eval_accuracy': 0.9697136824191236,\n",
            " 'eval_f1': 0.8869806574724608,\n",
            " 'eval_loss': 0.15025077760219574,\n",
            " 'eval_precision': 0.8694099642917871,\n",
            " 'eval_recall': 0.9052762039660056,\n",
            " 'eval_runtime': 9.8257,\n",
            " 'eval_samples_per_second': 351.426,\n",
            " 'eval_steps_per_second': 10.992}\n",
            "\n",
            "F1: 0.8869806574724608\n"
          ]
        }
      ]
    },
    {
      "cell_type": "markdown",
      "source": [
        "As we captured performance during training using the `training_logs` callback, we can also have a look at training and evaluation loss and evaluation $F_1$ progression. (The code here is only for visualization and you do not need to understand it, but you should aim to be able to interpret the plots.)"
      ],
      "metadata": {
        "id": "1jxFdf0uBXYJ"
      }
    },
    {
      "cell_type": "code",
      "source": [
        "%matplotlib inline\n",
        "import matplotlib.pyplot as plt\n",
        "\n",
        "def plot(logs, keys, labels):\n",
        "    values = sum([logs[k] for k in keys], [])\n",
        "    plt.ylim(max(min(values)-0.1, 0.0), min(max(values)+0.1, 1.0))\n",
        "    for key, label in zip(keys, labels):\n",
        "        plt.plot(logs['epoch'], logs[key], label=label)\n",
        "    plt.legend()\n",
        "    plt.show()\n",
        "\n",
        "plot(training_logs.logs, ['loss', 'eval_loss'], ['Training loss', 'Evaluation loss'])"
      ],
      "metadata": {
        "id": "DWLWZBjABEc4",
        "colab": {
          "base_uri": "https://localhost:8080/",
          "height": 434
        },
        "outputId": "aade011d-3982-42e4-8a6a-84bf1bdbe8b1"
      },
      "execution_count": null,
      "outputs": [
        {
          "output_type": "display_data",
          "data": {
            "text/plain": [
              "<Figure size 640x480 with 1 Axes>"
            ],
            "image/png": "[encoded data removed]"
          },
          "metadata": {}
        }
      ]
    },
    {
      "cell_type": "code",
      "source": [
        "plot(training_logs.logs, ['eval_f1'], ['Evaluation F1'])"
      ],
      "metadata": {
        "id": "8M1IYKS7Bp6k",
        "colab": {
          "base_uri": "https://localhost:8080/",
          "height": 435
        },
        "outputId": "7ddbce71-8778-4e48-b705-c119ba7730a3"
      },
      "execution_count": null,
      "outputs": [
        {
          "output_type": "display_data",
          "data": {
            "text/plain": [
              "<Figure size 640x480 with 1 Axes>"
            ],
            "image/png": "[encoded data removed]"
          },
          "metadata": {}
        }
      ]
    },
    {
      "cell_type": "markdown",
      "source": [
        "---\n",
        "\n",
        "## Create pipeline\n",
        "\n"
      ],
      "metadata": {
        "id": "PWTkJ97rDq7d"
      }
    },
    {
      "cell_type": "markdown",
      "source": [
        "We can wrap our fine-tuned model in a pipeline for convenience. (We need to specify `device` here as the model is on GPU.)"
      ],
      "metadata": {
        "id": "BVlTovCFEgLm"
      }
    },
    {
      "cell_type": "code",
      "source": [
        "pipe = transformers.pipeline(\n",
        "    'token-classification',\n",
        "    model=model,\n",
        "    tokenizer=tokenizer,\n",
        "    aggregation_strategy='simple',\n",
        "    device=0\n",
        ")"
      ],
      "metadata": {
        "id": "pbw6bQL9Dto0"
      },
      "execution_count": null,
      "outputs": []
    },
    {
      "cell_type": "markdown",
      "source": [
        "We can then use the pipeline simply as follows:"
      ],
      "metadata": {
        "id": "kxSAAtmAEuAo"
      }
    },
    {
      "cell_type": "code",
      "source": [
        "pipe('Finnish cities include Turku and Tampere.')"
      ],
      "metadata": {
        "id": "nTOhvnJ6EIww",
        "colab": {
          "base_uri": "https://localhost:8080/"
        },
        "outputId": "84f92c4b-c50a-48b7-ef54-5a997d8cae33"
      },
      "execution_count": null,
      "outputs": [
        {
          "output_type": "execute_result",
          "data": {
            "text/plain": [
              "[{'entity_group': 'MISC',\n",
              "  'score': np.float32(0.9834359),\n",
              "  'word': 'Finnish',\n",
              "  'start': 0,\n",
              "  'end': 7},\n",
              " {'entity_group': 'LOC',\n",
              "  'score': np.float32(0.9952143),\n",
              "  'word': 'Turku',\n",
              "  'start': 23,\n",
              "  'end': 28},\n",
              " {'entity_group': 'LOC',\n",
              "  'score': np.float32(0.9923211),\n",
              "  'word': 'Tampere',\n",
              "  'start': 33,\n",
              "  'end': 40}]"
            ]
          },
          "metadata": {},
          "execution_count": 62
        }
      ]
    },
    {
      "cell_type": "markdown",
      "source": [
        "Or, for convenience"
      ],
      "metadata": {
        "id": "Tl1a9_JHIbGC"
      }
    },
    {
      "cell_type": "code",
      "source": [
        "def tag(text):\n",
        "    output = pipe(text)\n",
        "    print('input:', text)\n",
        "    print('output:', [(o['word'], o['entity_group']) for o in output])\n",
        "\n",
        "tag('Finnish cities include Turku and Tampere.')"
      ],
      "metadata": {
        "id": "XsjFMSRwIPye",
        "colab": {
          "base_uri": "https://localhost:8080/"
        },
        "outputId": "cf4d5d86-a5fd-4db5-a047-4f766a11ce17"
      },
      "execution_count": null,
      "outputs": [
        {
          "output_type": "stream",
          "name": "stdout",
          "text": [
            "input: Finnish cities include Turku and Tampere.\n",
            "output: [('Finnish', 'MISC'), ('Turku', 'LOC'), ('Tampere', 'LOC')]\n"
          ]
        }
      ]
    },
    {
      "cell_type": "code",
      "source": [
        "tag('Paavo Nurmi was born in Turku in 1897.')"
      ],
      "metadata": {
        "id": "eI0QzsQ7I7_w",
        "colab": {
          "base_uri": "https://localhost:8080/"
        },
        "outputId": "3e30b46a-4d13-456c-e31d-9b561008ac19"
      },
      "execution_count": null,
      "outputs": [
        {
          "output_type": "stream",
          "name": "stdout",
          "text": [
            "input: Paavo Nurmi was born in Turku in 1897.\n",
            "output: [('Paavo Nurmi', 'PER'), ('Turku', 'LOC')]\n"
          ]
        }
      ]
    },
    {
      "cell_type": "code",
      "source": [
        "tag('Nokia is a company founded near the town of Nokia.')"
      ],
      "metadata": {
        "id": "cqJP87L7JcbT",
        "colab": {
          "base_uri": "https://localhost:8080/"
        },
        "outputId": "de9f3f8e-ec4a-485d-813a-bda5620c7d26"
      },
      "execution_count": null,
      "outputs": [
        {
          "output_type": "stream",
          "name": "stdout",
          "text": [
            "input: Nokia is a company founded near the town of Nokia.\n",
            "output: [('Nokia', 'ORG'), ('Nokia', 'LOC')]\n"
          ]
        }
      ]
    }
  ]
}